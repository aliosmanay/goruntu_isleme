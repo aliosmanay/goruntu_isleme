{
 "cells": [
  {
   "cell_type": "code",
   "execution_count": 3,
   "metadata": {
    "collapsed": false
   },
   "outputs": [],
   "source": [
    "import matplotlib.pyplot as plt\n",
    "import numpy as np\n",
    "def def_mask():\n",
    "        mask_1=[[1,1,1],[1,1,1],[1,1,1]]\n",
    "        mask_1,mask_1[0][0],mask_1[1][1],mask_1[2][2]\n",
    "        for i in range(3):\n",
    "            for j in range(3):\n",
    "                print(mask_1[i][j],end=\" \")\n",
    "            print()\n",
    "        return mask_1\n",
    "\n",
    "def my_dilation(img_1,mask):\n",
    "    m=img_1.shape[0]\n",
    "    n=img_1.shape[1]\n",
    "    img_2=np.random.randint(0,1,(m,n))\n",
    "    for i in range(1,m-1):\n",
    "         for j in range(1,n-1):\n",
    "            x_1=img_1[i-1,j-1] and mask[0][0]\n",
    "            x_2=img_1[i-1,j] and mask[0][1]\n",
    "            x_3=img_1[i-1,j+1] and mask[0][2]\n",
    "            x_4=img_1[i,j-1] and mask[1][0]\n",
    "            x_5=img_1[i,j] and mask[1][1]\n",
    "            x_6=img_1[i,j-1] and mask[1][2]\n",
    "            x_7=img_1[i+1,j-1] and mask[2][0]\n",
    "            x_8=img_1[i+1,j] and mask[2][1]\n",
    "            x_9=img_1[i+1,j+1] and mask[2][2]\n",
    "            result_1=x_1 or x_2 or x_3 or x_4 or x_5\n",
    "            result_2=x_6 or x_7 or x_8 or x_9\n",
    "            result = result_1 or result_2\n",
    "            img_2[i,j]=result\n",
    "    return img_2     "
   ]
  },
  {
   "cell_type": "code",
   "execution_count": 4,
   "metadata": {
    "collapsed": false
   },
   "outputs": [
    {
     "name": "stdout",
     "output_type": "stream",
     "text": [
      "1 1 1 \n",
      "1 1 1 \n",
      "1 1 1 \n"
     ]
    },
    {
     "data": {
      "image/png": "[encoded data removed]",
      "text/plain": [
       "<matplotlib.figure.Figure at 0x2745b7f89e8>"
      ]
     },
     "metadata": {},
     "output_type": "display_data"
    }
   ],
   "source": [
    "img=plt.imread(\"ali.jpg\")\n",
    "black_white=np.zeros(img.shape[0:2])\n",
    "thresold=100\n",
    "\n",
    "for i in range(black_white.shape[0]):\n",
    "    for j in range(black_white.shape[1]):\n",
    "        a=img[i,j,0]/3+img[i,j,1]/3+img[i,j,2]/3\n",
    "        if a>thresold:\n",
    "            black_white[i,j]=0\n",
    "        else:\n",
    "            black_white[i,j]=255\n",
    "img_3=my_dilation(black_white,def_mask())\n",
    "plt.subplot(1,2,1),plt.imshow(black_white,plt.cm.binary)\n",
    "plt.subplot(1,2,2),plt.imshow(img_3,plt.cm.binary)\n",
    "plt.show()"
   ]
  },
  {
   "cell_type": "code",
   "execution_count": null,
   "metadata": {
    "collapsed": true
   },
   "outputs": [],
   "source": []
  }
 ],
 "metadata": {
  "kernelspec": {
   "display_name": "Python 3",
   "language": "python",
   "name": "python3"
  },
  "language_info": {
   "codemirror_mode": {
    "name": "ipython",
    "version": 3
   },
   "file_extension": ".py",
   "mimetype": "text/x-python",
   "name": "python",
   "nbconvert_exporter": "python",
   "pygments_lexer": "ipython3",
   "version": "3.6.0"
  }
 },
 "nbformat": 4,
 "nbformat_minor": 2
}
